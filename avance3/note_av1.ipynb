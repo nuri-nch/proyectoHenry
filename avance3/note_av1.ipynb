{
 "cells": [
  {
   "cell_type": "code",
   "execution_count": 2,
   "id": "3a904a7b",
   "metadata": {},
   "outputs": [],
   "source": [
    "import pandas as pd"
   ]
  },
  {
   "cell_type": "code",
   "execution_count": 11,
   "id": "1458fa2a",
   "metadata": {},
   "outputs": [],
   "source": [
    "sales_df = pd.read_csv(\"data_avance/sales.csv\")\n",
    "products_df = pd.read_csv(\"data_avance/products.csv\")\n"
   ]
  },
  {
   "cell_type": "code",
   "execution_count": 12,
   "id": "90061167",
   "metadata": {},
   "outputs": [
    {
     "name": "stdout",
     "output_type": "stream",
     "text": [
      "Ventas (sales):\n"
     ]
    },
    {
     "data": {
      "text/html": [
       "<div>\n",
       "<style scoped>\n",
       "    .dataframe tbody tr th:only-of-type {\n",
       "        vertical-align: middle;\n",
       "    }\n",
       "\n",
       "    .dataframe tbody tr th {\n",
       "        vertical-align: top;\n",
       "    }\n",
       "\n",
       "    .dataframe thead th {\n",
       "        text-align: right;\n",
       "    }\n",
       "</style>\n",
       "<table border=\"1\" class=\"dataframe\">\n",
       "  <thead>\n",
       "    <tr style=\"text-align: right;\">\n",
       "      <th></th>\n",
       "      <th>SalesID</th>\n",
       "      <th>SalesPersonID</th>\n",
       "      <th>CustomerID</th>\n",
       "      <th>ProductID</th>\n",
       "      <th>Quantity</th>\n",
       "      <th>Discount</th>\n",
       "      <th>TotalPrice</th>\n",
       "      <th>SalesDate</th>\n",
       "      <th>TransactionNumber</th>\n",
       "    </tr>\n",
       "  </thead>\n",
       "  <tbody>\n",
       "    <tr>\n",
       "      <th>0</th>\n",
       "      <td>1</td>\n",
       "      <td>6</td>\n",
       "      <td>27039</td>\n",
       "      <td>381</td>\n",
       "      <td>7</td>\n",
       "      <td>0.0</td>\n",
       "      <td>0.0</td>\n",
       "      <td>2018-02-05 07:38:25.430</td>\n",
       "      <td>FQL4S94E4ME1EZFTG42G</td>\n",
       "    </tr>\n",
       "    <tr>\n",
       "      <th>1</th>\n",
       "      <td>2</td>\n",
       "      <td>16</td>\n",
       "      <td>25011</td>\n",
       "      <td>61</td>\n",
       "      <td>7</td>\n",
       "      <td>0.0</td>\n",
       "      <td>0.0</td>\n",
       "      <td>2018-02-02 16:03:31.150</td>\n",
       "      <td>12UGLX40DJ1A5DTFBHB8</td>\n",
       "    </tr>\n",
       "    <tr>\n",
       "      <th>2</th>\n",
       "      <td>3</td>\n",
       "      <td>13</td>\n",
       "      <td>94024</td>\n",
       "      <td>23</td>\n",
       "      <td>24</td>\n",
       "      <td>0.0</td>\n",
       "      <td>0.0</td>\n",
       "      <td>2018-05-03 19:31:56.880</td>\n",
       "      <td>5DT8RCPL87KI5EORO7B0</td>\n",
       "    </tr>\n",
       "    <tr>\n",
       "      <th>3</th>\n",
       "      <td>4</td>\n",
       "      <td>8</td>\n",
       "      <td>73966</td>\n",
       "      <td>176</td>\n",
       "      <td>19</td>\n",
       "      <td>0.2</td>\n",
       "      <td>0.0</td>\n",
       "      <td>2018-04-07 14:43:55.420</td>\n",
       "      <td>R3DR9MLD5NR76VO17ULE</td>\n",
       "    </tr>\n",
       "    <tr>\n",
       "      <th>4</th>\n",
       "      <td>5</td>\n",
       "      <td>10</td>\n",
       "      <td>32653</td>\n",
       "      <td>310</td>\n",
       "      <td>9</td>\n",
       "      <td>0.0</td>\n",
       "      <td>0.0</td>\n",
       "      <td>2018-02-12 15:37:03.940</td>\n",
       "      <td>4BGS0Z5OMAZ8NDAFHHP3</td>\n",
       "    </tr>\n",
       "  </tbody>\n",
       "</table>\n",
       "</div>"
      ],
      "text/plain": [
       "   SalesID  SalesPersonID  CustomerID  ProductID  Quantity  Discount  \\\n",
       "0        1              6       27039        381         7       0.0   \n",
       "1        2             16       25011         61         7       0.0   \n",
       "2        3             13       94024         23        24       0.0   \n",
       "3        4              8       73966        176        19       0.2   \n",
       "4        5             10       32653        310         9       0.0   \n",
       "\n",
       "   TotalPrice                SalesDate     TransactionNumber  \n",
       "0         0.0  2018-02-05 07:38:25.430  FQL4S94E4ME1EZFTG42G  \n",
       "1         0.0  2018-02-02 16:03:31.150  12UGLX40DJ1A5DTFBHB8  \n",
       "2         0.0  2018-05-03 19:31:56.880  5DT8RCPL87KI5EORO7B0  \n",
       "3         0.0  2018-04-07 14:43:55.420  R3DR9MLD5NR76VO17ULE  \n",
       "4         0.0  2018-02-12 15:37:03.940  4BGS0Z5OMAZ8NDAFHHP3  "
      ]
     },
     "metadata": {},
     "output_type": "display_data"
    },
    {
     "name": "stdout",
     "output_type": "stream",
     "text": [
      "Productos (products):\n"
     ]
    },
    {
     "data": {
      "text/html": [
       "<div>\n",
       "<style scoped>\n",
       "    .dataframe tbody tr th:only-of-type {\n",
       "        vertical-align: middle;\n",
       "    }\n",
       "\n",
       "    .dataframe tbody tr th {\n",
       "        vertical-align: top;\n",
       "    }\n",
       "\n",
       "    .dataframe thead th {\n",
       "        text-align: right;\n",
       "    }\n",
       "</style>\n",
       "<table border=\"1\" class=\"dataframe\">\n",
       "  <thead>\n",
       "    <tr style=\"text-align: right;\">\n",
       "      <th></th>\n",
       "      <th>ProductID</th>\n",
       "      <th>ProductName</th>\n",
       "      <th>Price</th>\n",
       "      <th>CategoryID</th>\n",
       "      <th>Class</th>\n",
       "      <th>ModifyDate</th>\n",
       "      <th>Resistant</th>\n",
       "      <th>IsAllergic</th>\n",
       "      <th>VitalityDays</th>\n",
       "    </tr>\n",
       "  </thead>\n",
       "  <tbody>\n",
       "    <tr>\n",
       "      <th>0</th>\n",
       "      <td>1</td>\n",
       "      <td>Flour - Whole Wheat</td>\n",
       "      <td>74.2988</td>\n",
       "      <td>3</td>\n",
       "      <td>Medium</td>\n",
       "      <td>21:49.2</td>\n",
       "      <td>Durable</td>\n",
       "      <td>Unknown</td>\n",
       "      <td>0</td>\n",
       "    </tr>\n",
       "    <tr>\n",
       "      <th>1</th>\n",
       "      <td>2</td>\n",
       "      <td>Cookie Chocolate Chip With</td>\n",
       "      <td>91.2329</td>\n",
       "      <td>3</td>\n",
       "      <td>Medium</td>\n",
       "      <td>39:11.0</td>\n",
       "      <td>Unknown</td>\n",
       "      <td>Unknown</td>\n",
       "      <td>0</td>\n",
       "    </tr>\n",
       "    <tr>\n",
       "      <th>2</th>\n",
       "      <td>3</td>\n",
       "      <td>Onions - Cippolini</td>\n",
       "      <td>9.1379</td>\n",
       "      <td>9</td>\n",
       "      <td>Medium</td>\n",
       "      <td>11:51.6</td>\n",
       "      <td>Weak</td>\n",
       "      <td>FALSE</td>\n",
       "      <td>111</td>\n",
       "    </tr>\n",
       "    <tr>\n",
       "      <th>3</th>\n",
       "      <td>4</td>\n",
       "      <td>Sauce - Gravy; Au Jus; Mix</td>\n",
       "      <td>54.3055</td>\n",
       "      <td>9</td>\n",
       "      <td>Medium</td>\n",
       "      <td>46:28.9</td>\n",
       "      <td>Durable</td>\n",
       "      <td>Unknown</td>\n",
       "      <td>0</td>\n",
       "    </tr>\n",
       "    <tr>\n",
       "      <th>4</th>\n",
       "      <td>5</td>\n",
       "      <td>Artichokes - Jerusalem</td>\n",
       "      <td>65.4771</td>\n",
       "      <td>2</td>\n",
       "      <td>Low</td>\n",
       "      <td>13:35.4</td>\n",
       "      <td>Durable</td>\n",
       "      <td>TRUE</td>\n",
       "      <td>27</td>\n",
       "    </tr>\n",
       "  </tbody>\n",
       "</table>\n",
       "</div>"
      ],
      "text/plain": [
       "   ProductID                 ProductName    Price  CategoryID   Class  \\\n",
       "0          1         Flour - Whole Wheat  74.2988           3  Medium   \n",
       "1          2  Cookie Chocolate Chip With  91.2329           3  Medium   \n",
       "2          3          Onions - Cippolini   9.1379           9  Medium   \n",
       "3          4  Sauce - Gravy; Au Jus; Mix  54.3055           9  Medium   \n",
       "4          5      Artichokes - Jerusalem  65.4771           2     Low   \n",
       "\n",
       "  ModifyDate Resistant IsAllergic  VitalityDays  \n",
       "0    21:49.2   Durable    Unknown             0  \n",
       "1    39:11.0   Unknown    Unknown             0  \n",
       "2    11:51.6      Weak      FALSE           111  \n",
       "3    46:28.9   Durable    Unknown             0  \n",
       "4    13:35.4   Durable       TRUE            27  "
      ]
     },
     "metadata": {},
     "output_type": "display_data"
    }
   ],
   "source": [
    "print(\"Ventas (sales):\")\n",
    "display(sales_df.head())\n",
    "\n",
    "print(\"Productos (products):\")\n",
    "display(products_df.head())"
   ]
  },
  {
   "cell_type": "code",
   "execution_count": null,
   "id": "ab9c362f",
   "metadata": {},
   "outputs": [
    {
     "data": {
      "text/html": [
       "<div>\n",
       "<style scoped>\n",
       "    .dataframe tbody tr th:only-of-type {\n",
       "        vertical-align: middle;\n",
       "    }\n",
       "\n",
       "    .dataframe tbody tr th {\n",
       "        vertical-align: top;\n",
       "    }\n",
       "\n",
       "    .dataframe thead th {\n",
       "        text-align: right;\n",
       "    }\n",
       "</style>\n",
       "<table border=\"1\" class=\"dataframe\">\n",
       "  <thead>\n",
       "    <tr style=\"text-align: right;\">\n",
       "      <th></th>\n",
       "      <th>Quantity</th>\n",
       "      <th>Price</th>\n",
       "      <th>Discount</th>\n",
       "      <th>TotalPriceCalculated</th>\n",
       "    </tr>\n",
       "  </thead>\n",
       "  <tbody>\n",
       "    <tr>\n",
       "      <th>0</th>\n",
       "      <td>7</td>\n",
       "      <td>44.2337</td>\n",
       "      <td>0.0</td>\n",
       "      <td>309.63590</td>\n",
       "    </tr>\n",
       "    <tr>\n",
       "      <th>1</th>\n",
       "      <td>7</td>\n",
       "      <td>62.5460</td>\n",
       "      <td>0.0</td>\n",
       "      <td>437.82200</td>\n",
       "    </tr>\n",
       "    <tr>\n",
       "      <th>2</th>\n",
       "      <td>24</td>\n",
       "      <td>79.0184</td>\n",
       "      <td>0.0</td>\n",
       "      <td>1896.44160</td>\n",
       "    </tr>\n",
       "    <tr>\n",
       "      <th>3</th>\n",
       "      <td>19</td>\n",
       "      <td>81.3167</td>\n",
       "      <td>0.2</td>\n",
       "      <td>1236.01384</td>\n",
       "    </tr>\n",
       "    <tr>\n",
       "      <th>4</th>\n",
       "      <td>9</td>\n",
       "      <td>79.9780</td>\n",
       "      <td>0.0</td>\n",
       "      <td>719.80200</td>\n",
       "    </tr>\n",
       "  </tbody>\n",
       "</table>\n",
       "</div>"
      ],
      "text/plain": [
       "   Quantity    Price  Discount  TotalPriceCalculated\n",
       "0         7  44.2337       0.0             309.63590\n",
       "1         7  62.5460       0.0             437.82200\n",
       "2        24  79.0184       0.0            1896.44160\n",
       "3        19  81.3167       0.2            1236.01384\n",
       "4         9  79.9780       0.0             719.80200"
      ]
     },
     "metadata": {},
     "output_type": "display_data"
    }
   ],
   "source": [
    "# agrega el precio a cada venta segun su producto\n",
    "\n",
    "merged_df = sales_df.merge(products_df[['ProductID', 'Price']], on='ProductID', how='left')\n",
    "\n",
    "merged_df['TotalPriceCalculated'] = (merged_df['Quantity'] * merged_df['Price']) * (1 - merged_df['Discount'])\n",
    "\n",
    "display(merged_df[['Quantity', 'Price', 'Discount', 'TotalPriceCalculated']].head())"
   ]
  },
  {
   "cell_type": "code",
   "execution_count": 18,
   "id": "6ac8d387",
   "metadata": {},
   "outputs": [],
   "source": [
    "import os\n",
    "\n",
    "os.makedirs('data_avance', exist_ok=True)  # crea la carpeta si no existe\n",
    "\n",
    "merged_df.to_csv('data_avance/sales_with_totalprice.csv', index=False)"
   ]
  },
  {
   "cell_type": "code",
   "execution_count": null,
   "id": "797cf144",
   "metadata": {},
   "outputs": [],
   "source": [
    "#Detecta los outliers en la columna de ventas totales (TotalPriceCalculated)\n",
    "#Utilizando el criterio del rango intercuartílico (IQR). \n",
    "#Luego, crea una nueva columna llamada IsOutlier que tenga el valor 1 si el registro es un outlier y 0 en caso contrario. ¿Cuántos outliers se detectaron?"
   ]
  },
  {
   "cell_type": "code",
   "execution_count": 19,
   "id": "6375e7ab",
   "metadata": {},
   "outputs": [],
   "source": [
    "# calculamos los Q \n",
    "Q1 = merged_df['TotalPriceCalculated'].quantile(0.25)\n",
    "Q3 = merged_df['TotalPriceCalculated'].quantile(0.75)\n",
    "IQR = Q3 - Q1"
   ]
  },
  {
   "cell_type": "code",
   "execution_count": 20,
   "id": "7b2e9f5b",
   "metadata": {},
   "outputs": [],
   "source": [
    "# calculamos los límites\n",
    "lower_bound = Q1 - 1.5 * IQR\n",
    "upper_bound = Q3 + 1.5 * IQR"
   ]
  },
  {
   "cell_type": "code",
   "execution_count": 21,
   "id": "e3357abb",
   "metadata": {},
   "outputs": [],
   "source": [
    "merged_df['IsOutlier'] = ((merged_df['TotalPriceCalculated'] < lower_bound) | (merged_df['TotalPriceCalculated'] > upper_bound)).astype(int)\n",
    "#creamos la columna"
   ]
  },
  {
   "cell_type": "code",
   "execution_count": null,
   "id": "5d9ce942",
   "metadata": {},
   "outputs": [
    {
     "name": "stdout",
     "output_type": "stream",
     "text": [
      "Se detectaron 48217 outliers en la columna TotalPriceCalculated.\n"
     ]
    }
   ],
   "source": [
    "# contamos los outliers detectados\n",
    "num_outliers = merged_df['IsOutlier'].sum()\n",
    "\n",
    "print(f\"Se detectaron {num_outliers} outliers en la columna TotalPriceCalculated.\")"
   ]
  },
  {
   "cell_type": "code",
   "execution_count": 25,
   "id": "f351fe09",
   "metadata": {},
   "outputs": [],
   "source": [
    "#convertimos a datetime\n",
    "merged_df['SalesDate'] = pd.to_datetime(merged_df['SalesDate'])\n",
    "\n",
    "merged_df['SalesHour'] = merged_df['SalesDate'].dt.time #creamos columna \n",
    "\n",
    "ventas_por_hora = merged_df.groupby('SalesHour')['TotalPriceCalculated'].sum().reset_index()\n",
    "\n",
    "merged_df['DayOfWeek'] = merged_df['SalesDate'].dt.dayofweek #identificamos dia de la semana\n",
    "\n",
    "merged_df['DiaTipo'] = merged_df['DayOfWeek'].apply(lambda x: 'Entre semana' if x < 5 else 'Fin de semana')\n",
    "\n",
    "ventas_por_diatipo = merged_df.groupby('DiaTipo')['TotalPriceCalculated'].sum().reset_index()"
   ]
  },
  {
   "cell_type": "code",
   "execution_count": null,
   "id": "fbad1e8c",
   "metadata": {},
   "outputs": [
    {
     "name": "stdout",
     "output_type": "stream",
     "text": [
      "Ventas totales por hora:\n",
      "               SalesHour  TotalPriceCalculated\n",
      "339177   01:44:43.550000            8872.35248\n",
      "2410173  12:25:02.410000            8531.76838\n",
      "1143727  05:53:35.240000            8254.73550\n",
      "3203701  16:30:29.220000            8196.92370\n",
      "2232527  11:30:15.470000            7948.48490\n",
      "\n",
      "Ventas totales según tipo de día:\n",
      "         DiaTipo  TotalPriceCalculated\n",
      "0   Entre semana          3.080352e+09\n",
      "1  Fin de semana          1.235916e+09\n"
     ]
    }
   ],
   "source": [
    "# resultados\n",
    "print(\"Ventas totales por hora:\")\n",
    "print(ventas_por_hora.sort_values(by='TotalPriceCalculated', ascending=False).head())\n",
    "\n",
    "print(\"\\nVentas totales según tipo de día:\")\n",
    "print(ventas_por_diatipo)"
   ]
  },
  {
   "cell_type": "code",
   "execution_count": null,
   "id": "7ad5e07f",
   "metadata": {},
   "outputs": [],
   "source": [
    "#La mayoría de las ventas ocurren en las horas de la mañana, entre las 7 y 11am, también el total de ventas es mayor entre semana que durante le fin de semana."
   ]
  },
  {
   "cell_type": "code",
   "execution_count": 30,
   "id": "a4749bd3",
   "metadata": {},
   "outputs": [],
   "source": [
    "employees_df = pd.read_csv(\"data_avance/employees.csv\")\n",
    "\n"
   ]
  },
  {
   "cell_type": "code",
   "execution_count": 33,
   "id": "636f28fa",
   "metadata": {},
   "outputs": [],
   "source": [
    "employees_df['BirthDate'] = pd.to_datetime(employees_df['BirthDate'])\n",
    "employees_df['HireDate'] = pd.to_datetime(employees_df['HireDate'])\n",
    "merged_df['SalesDate'] = pd.to_datetime(merged_df['SalesDate'])\n",
    "\n"
   ]
  },
  {
   "cell_type": "code",
   "execution_count": 36,
   "id": "e41efd36",
   "metadata": {},
   "outputs": [],
   "source": [
    "merged_df = merged_df.merge(\n",
    "    employees_df[['EmployeeID', 'BirthDate', 'HireDate']],\n",
    "    left_on='SalesPersonID',\n",
    "    right_on='EmployeeID',\n",
    "    how='left'\n",
    ")"
   ]
  },
  {
   "cell_type": "code",
   "execution_count": null,
   "id": "6c78dc67",
   "metadata": {},
   "outputs": [
    {
     "data": {
      "text/html": [
       "<div>\n",
       "<style scoped>\n",
       "    .dataframe tbody tr th:only-of-type {\n",
       "        vertical-align: middle;\n",
       "    }\n",
       "\n",
       "    .dataframe tbody tr th {\n",
       "        vertical-align: top;\n",
       "    }\n",
       "\n",
       "    .dataframe thead th {\n",
       "        text-align: right;\n",
       "    }\n",
       "</style>\n",
       "<table border=\"1\" class=\"dataframe\">\n",
       "  <thead>\n",
       "    <tr style=\"text-align: right;\">\n",
       "      <th></th>\n",
       "      <th>SalesPersonID</th>\n",
       "      <th>EmployeeID</th>\n",
       "      <th>BirthDate</th>\n",
       "      <th>HireDate</th>\n",
       "      <th>SalesDate</th>\n",
       "      <th>AgeAtHire</th>\n",
       "      <th>ExperienceAtSale</th>\n",
       "    </tr>\n",
       "  </thead>\n",
       "  <tbody>\n",
       "    <tr>\n",
       "      <th>0</th>\n",
       "      <td>6</td>\n",
       "      <td>6</td>\n",
       "      <td>1987-01-13</td>\n",
       "      <td>2013-06-22 13:20:18.080</td>\n",
       "      <td>2018-02-05 07:38:25.430</td>\n",
       "      <td>26</td>\n",
       "      <td>4.0</td>\n",
       "    </tr>\n",
       "    <tr>\n",
       "      <th>1</th>\n",
       "      <td>16</td>\n",
       "      <td>16</td>\n",
       "      <td>1951-07-07</td>\n",
       "      <td>2017-02-10 11:21:26.650</td>\n",
       "      <td>2018-02-02 16:03:31.150</td>\n",
       "      <td>65</td>\n",
       "      <td>0.0</td>\n",
       "    </tr>\n",
       "    <tr>\n",
       "      <th>2</th>\n",
       "      <td>13</td>\n",
       "      <td>13</td>\n",
       "      <td>1963-04-18</td>\n",
       "      <td>2011-12-12 10:43:52.940</td>\n",
       "      <td>2018-05-03 19:31:56.880</td>\n",
       "      <td>48</td>\n",
       "      <td>6.0</td>\n",
       "    </tr>\n",
       "    <tr>\n",
       "      <th>3</th>\n",
       "      <td>8</td>\n",
       "      <td>8</td>\n",
       "      <td>1956-12-13</td>\n",
       "      <td>2014-10-14 23:12:53.420</td>\n",
       "      <td>2018-04-07 14:43:55.420</td>\n",
       "      <td>57</td>\n",
       "      <td>3.0</td>\n",
       "    </tr>\n",
       "    <tr>\n",
       "      <th>4</th>\n",
       "      <td>10</td>\n",
       "      <td>10</td>\n",
       "      <td>1963-12-30</td>\n",
       "      <td>2012-07-23 15:02:12.640</td>\n",
       "      <td>2018-02-12 15:37:03.940</td>\n",
       "      <td>48</td>\n",
       "      <td>5.0</td>\n",
       "    </tr>\n",
       "  </tbody>\n",
       "</table>\n",
       "</div>"
      ],
      "text/plain": [
       "   SalesPersonID  EmployeeID  BirthDate                HireDate  \\\n",
       "0              6           6 1987-01-13 2013-06-22 13:20:18.080   \n",
       "1             16          16 1951-07-07 2017-02-10 11:21:26.650   \n",
       "2             13          13 1963-04-18 2011-12-12 10:43:52.940   \n",
       "3              8           8 1956-12-13 2014-10-14 23:12:53.420   \n",
       "4             10          10 1963-12-30 2012-07-23 15:02:12.640   \n",
       "\n",
       "                SalesDate  AgeAtHire  ExperienceAtSale  \n",
       "0 2018-02-05 07:38:25.430         26               4.0  \n",
       "1 2018-02-02 16:03:31.150         65               0.0  \n",
       "2 2018-05-03 19:31:56.880         48               6.0  \n",
       "3 2018-04-07 14:43:55.420         57               3.0  \n",
       "4 2018-02-12 15:37:03.940         48               5.0  "
      ]
     },
     "metadata": {},
     "output_type": "display_data"
    }
   ],
   "source": [
    "# edad al momento de la contratacion\n",
    "merged_df['AgeAtHire'] = (merged_df['HireDate'] - merged_df['BirthDate']).dt.days // 365\n",
    "\n",
    "# años de experiencia cuando se hizo la venta\n",
    "merged_df['ExperienceAtSale'] = (merged_df['SalesDate'] - merged_df['HireDate']).dt.days // 365\n",
    "\n",
    "display(merged_df[['SalesPersonID', 'EmployeeID', 'BirthDate', 'HireDate', 'SalesDate', 'AgeAtHire', 'ExperienceAtSale']].head())"
   ]
  },
  {
   "cell_type": "code",
   "execution_count": null,
   "id": "77dd60ca",
   "metadata": {},
   "outputs": [],
   "source": [
    "# Muestran que los empleados fueron contratados a diferentes edades, desde jovenes hasta personas mayores.Tambien muestra su experiencia en la empresa al hacer las ventas varía mucho."
   ]
  },
  {
   "cell_type": "code",
   "execution_count": 40,
   "id": "16e16bf6",
   "metadata": {},
   "outputs": [],
   "source": [
    "# seleccionamos colunas\n",
    "df_model = merged_df[[\n",
    "    'SalesID',\n",
    "    'SalesPersonID',\n",
    "    'CustomerID',\n",
    "    'ProductID',\n",
    "    'Quantity',\n",
    "    'Discount',\n",
    "    'SalesHour',\n",
    "    'DiaTipo',           \n",
    "    'AgeAtHire',\n",
    "    'ExperienceAtSale',\n",
    "    'IsOutlier',\n",
    "    'TotalPriceCalculated'  \n",
    "]].copy()"
   ]
  },
  {
   "cell_type": "code",
   "execution_count": null,
   "id": "033ae7a4",
   "metadata": {},
   "outputs": [],
   "source": [
    "# DiaTipo  0=Entre semana 1=Fin de semana\n",
    "\n",
    "df_model['DiaTipo'] = df_model['DiaTipo'].map({'Entre semana': 0, 'Fin de semana': 1})"
   ]
  },
  {
   "cell_type": "code",
   "execution_count": 44,
   "id": "8fc7ca9e",
   "metadata": {},
   "outputs": [],
   "source": [
    "cols_to_scale = ['Quantity', 'Discount', 'AgeAtHire', 'ExperienceAtSale']\n",
    "\n",
    "for col in cols_to_scale:\n",
    "    mean = df_model[col].mean()\n",
    "    std = df_model[col].std()\n",
    "    df_model[col] = (df_model[col] - mean) / std"
   ]
  },
  {
   "cell_type": "code",
   "execution_count": null,
   "id": "11d999dc",
   "metadata": {},
   "outputs": [],
   "source": [
    "# fueron escaladas utilizando la estandarización (normalización z-score), que consiste en restar la media y dividir por la desviación estándar de cada variable. \n",
    "# Esto permite que todas las variables numéricas tengan una escala comparable.\n"
   ]
  }
 ],
 "metadata": {
  "kernelspec": {
   "display_name": ".venv",
   "language": "python",
   "name": "python3"
  },
  "language_info": {
   "codemirror_mode": {
    "name": "ipython",
    "version": 3
   },
   "file_extension": ".py",
   "mimetype": "text/x-python",
   "name": "python",
   "nbconvert_exporter": "python",
   "pygments_lexer": "ipython3",
   "version": "3.12.4"
  }
 },
 "nbformat": 4,
 "nbformat_minor": 5
}
